{
 "cells": [
  {
   "cell_type": "markdown",
   "id": "f0e9d29d-9f4b-41cd-9f09-701749e1013a",
   "metadata": {},
   "source": [
    "Este script evalua distintos modelos para seleccionar uno en la etapa de optimizacion y modelacion"
   ]
  },
  {
   "cell_type": "code",
   "execution_count": null,
   "id": "2654a02a-c64e-4198-93d1-98a6695c53b9",
   "metadata": {},
   "outputs": [],
   "source": [
    "# Data reading\n",
    "# ==============================================================================\n",
    "import numpy as np\n",
    "import pandas as pd\n",
    "import xarray as xr\n",
    "import glob\n",
    "\n",
    "# Graphics \n",
    "# ==============================================================================\n",
    "import matplotlib.pyplot as plt\n",
    "import matplotlib as mpl\n",
    "import cartopy.crs as ccrs\n",
    "import cartopy.feature as cfeature\n",
    "\n",
    "# Preprocessing and modeling\n",
    "# ==============================================================================\n",
    "from sklearn.pipeline import make_pipeline\n",
    "from sklearn.preprocessing import StandardScaler\n",
    "from sklearn.preprocessing import scale\n",
    "from sklearn import linear_model\n",
    "from sklearn import svm\n",
    "from sklearn import neighbors\n",
    "from sklearn import tree\n",
    "from sklearn.ensemble import BaggingRegressor\n",
    "from sklearn.ensemble import RandomForestRegressor\n",
    "from sklearn.neural_network import MLPRegressor\n",
    "from sklearn import ensemble\n",
    "from sklearn import model_selection\n",
    "from sklearn.kernel_ridge import KernelRidge\n",
    "import statsmodels.api as sm\n",
    "\n",
    "# Metrics \n",
    "from sklearn.metrics import mean_squared_error\n",
    "from sklearn.metrics import r2_score\n",
    "import time\n",
    "\n",
    "# Warnings configuration \n",
    "# ==============================================================================\n",
    "import warnings\n",
    "warnings.filterwarnings('ignore')"
   ]
  },
  {
   "cell_type": "code",
   "execution_count": 82,
   "id": "c3e95f8b-032d-411b-860e-25526c066682",
   "metadata": {},
   "outputs": [],
   "source": [
    "# Rutas de los datos y guardado de imagenes\n",
    "path = 'D:/Documentos/Maestria/DATOS ERA5/ERA5/'\n",
    "mlg = 'D:/Documentos/Maestria/MLG/'\n",
    "save_imgs = mlg+'IMGS/'"
   ]
  },
  {
   "cell_type": "code",
   "execution_count": 3,
   "id": "8b0e4e2c-ff80-4c03-84d1-d16285fa90f2",
   "metadata": {},
   "outputs": [],
   "source": [
    "# Lectura\n",
    "data = xr.open_dataset(path+'DATASET_ERA5.nc')"
   ]
  },
  {
   "cell_type": "markdown",
   "id": "8343d6ad-762c-421b-ab5a-64748384c68f",
   "metadata": {},
   "source": [
    "Dado que se evaluan distintos modelos, se selecciona solo un año para reducir los tiempos de computo y recursos necesarios"
   ]
  },
  {
   "cell_type": "code",
   "execution_count": 4,
   "id": "6625ab46-ee20-486d-9fe8-200645b3c882",
   "metadata": {},
   "outputs": [],
   "source": [
    "dates_test = slice('2020-01-01','2020-12-31')\n",
    "data = data.sel(time=dates_test)"
   ]
  },
  {
   "cell_type": "markdown",
   "id": "70b8b4e3-a5dd-44a4-a040-d9566b3b0adb",
   "metadata": {},
   "source": [
    "Se selecciona el predictando y predictores. No se selecciona mn2t para notar mejor las diferencias en los modelos"
   ]
  },
  {
   "cell_type": "code",
   "execution_count": 5,
   "id": "926c1c96-c3b3-4f91-b2a9-f0876c4835c2",
   "metadata": {},
   "outputs": [],
   "source": [
    "hzn = 24  # Cantidad de horas a rezagar\n",
    "Y = data.mn2t[hzn:]\n",
    "X = data.drop(['mn2t'])\n",
    "X = X.sel(time=data.time[:-hzn]) \n",
    "scaler = StandardScaler()"
   ]
  },
  {
   "cell_type": "markdown",
   "id": "2bf113ff-724e-4132-914e-b9ce4650872e",
   "metadata": {},
   "source": [
    "Funcion para preprocesamiento de los datos en los respectivos pixeles"
   ]
  },
  {
   "cell_type": "code",
   "execution_count": 6,
   "id": "c5059f42-d531-4d8a-bb54-47627e84fca2",
   "metadata": {},
   "outputs": [],
   "source": [
    "def prepro(X, Y, i, j, t_sz):\n",
    "    lat = X.latitude[i]\n",
    "    lon = X.longitude[j]\n",
    "    \n",
    "    x_sub = X.sel(latitude = lat, longitude = lon)\n",
    "    x_sub = x_sub.to_array()\n",
    "    # - Invertir los ejer para que el arra sea de shape (n_samples, n_features)\n",
    "    x_sub = np.swapaxes(x_sub, 0,1)\n",
    "    y_sub = Y.sel(latitude = lat, longitude = lon).values\n",
    "    # - Estandarizacion\n",
    "    x_sub_s = scaler.fit_transform(x_sub)\n",
    "    y_sub_s = scaler.fit_transform(y_sub.reshape(-1,1))\n",
    "    y_sub_s = y_sub_s.reshape(y_sub.shape)\n",
    "            \n",
    "    #==================== Dividir los datos ==================== \n",
    "    # - Se evita usar shuffle dado que el orden de los datos es importante\n",
    "    x_train, x_test, y_train, y_test = model_selection.train_test_split(\n",
    "        x_sub_s, y_sub_s, test_size=t_sz, shuffle = False)\n",
    "    \n",
    "    return x_train, x_test, y_train, y_test"
   ]
  },
  {
   "cell_type": "markdown",
   "id": "8cc7234a-b29d-40cf-a370-053925c409e3",
   "metadata": {
    "tags": []
   },
   "source": [
    "## Metodos simples"
   ]
  },
  {
   "cell_type": "code",
   "execution_count": 7,
   "id": "a86e4072-74d1-4b88-8af4-9a061ca651a7",
   "metadata": {},
   "outputs": [],
   "source": [
    "# - instanciamiento\n",
    "lmr = linear_model.Ridge()\n",
    "knn = neighbors.KNeighborsRegressor()\n",
    "#svm = svm.SVR()\n",
    "clf = tree.DecisionTreeRegressor()"
   ]
  },
  {
   "cell_type": "code",
   "execution_count": 8,
   "id": "ff1bf022-f162-43a3-92e6-8527cf72cb89",
   "metadata": {},
   "outputs": [],
   "source": [
    "# - Arrays para salvar las metricas de los modelos\n",
    "n_mod = 3\n",
    "n_met = 4\n",
    "lats = Y.latitude.shape[0]\n",
    "lons = Y.longitude.shape[0]\n",
    "metrics = np.zeros((n_mod, n_met, lats, lons))*np.nan"
   ]
  },
  {
   "cell_type": "code",
   "execution_count": 9,
   "id": "3ce941c9-297f-4552-b4ad-c46557b46a33",
   "metadata": {},
   "outputs": [],
   "source": [
    "for i in range(Y.latitude.shape[0]):\n",
    "    for j in range(Y.longitude.shape[0]):\n",
    "        # - Con esta condicion se evitan las zonas enmascaradas\n",
    "        if (np.isnan(Y[:,i,j]).sum())<10:\n",
    "            #==================== Pre-Procesamiento ==================== \n",
    "            x_train, x_test, y_train, y_test = prepro(X, Y, i, j, 0.33)\n",
    "\n",
    "            #======================================================\n",
    "            #              Aplicacion de modelos\n",
    "            #======================================================\n",
    "            \n",
    "            #==================== Linear Model ====================\n",
    "            st_lmr = time.time()\n",
    "            \n",
    "            lmr_f = lmr.fit(x_train, y_train)\n",
    "            y_pred = lmr.predict(x_test)\n",
    "            \n",
    "            lmr_score = lmr_f.score(x_train, y_train)\n",
    "            metrics[0,0,i,j] = lmr_score\n",
    "            lmr_r2 = r2_score(y_test, y_pred)\n",
    "            metrics[0,1,i,j] = lmr_r2\n",
    "            lmr_mse = mean_squared_error(y_test, y_pred, squared=False)\n",
    "            metrics[0,2,i,j] = lmr_mse\n",
    "            \n",
    "            \n",
    "            ed_lmr = time.time()\n",
    "            tt_lmr = ed_lmr-st_lmr\n",
    "            metrics[0,3,i,j] = tt_lmr\n",
    "            \n",
    "            #==================== KNN ====================\n",
    "            st_knn = time.time()\n",
    "            \n",
    "            knn.fit(x_train,y_train)\n",
    "            y_pred = knn.predict(x_test)\n",
    "            \n",
    "            knn_score = knn.score(x_train, y_train)\n",
    "            metrics[1,0,i,j] = knn_score\n",
    "            knn_r2 = r2_score(y_test, y_pred)\n",
    "            metrics[1,1,i,j] = knn_r2\n",
    "            knn_mse = mean_squared_error(y_test, y_pred, squared=False)\n",
    "            metrics[1,2,i,j] = knn_mse\n",
    "            \n",
    "            \n",
    "            ed_knn = time.time()\n",
    "            tt_knn = ed_knn-st_knn\n",
    "            metrics[1,3,i,j] = tt_knn\n",
    "            \n",
    "            #==================== SVM ====================\n",
    "            # Nota: pequeños experimentos mostraron este como un modelo que\n",
    "            # consume muchos recursos. Si se desea evaluar, descomentar estas lineas\n",
    "            # y cambiar n_mod a 4 \n",
    "            \n",
    "            #st_svm = time.time()\n",
    "\n",
    "            #svm.fit(x_train, y_train)\n",
    "            #y_pred = svm.predict(x_test)\n",
    "            \n",
    "            #svm_score = svm.score(x_train, y_train)\n",
    "            #metrics[2,0,i,j] = svm_score\n",
    "            #svm_r2 = r2_score(y_test, y_pred)\n",
    "            #metrics[2,1,i,j] = svm_r2\n",
    "            #svm_mse = mean_squared_error(y_test, y_pred, squared=False)\n",
    "            #metrics[2,2,i,j] = svm_mse\n",
    "            \n",
    "            #ed_svm = time.time()\n",
    "            #tt_svm = ed_svm-st_svm\n",
    "            #metrics[2,3,i,j] = tt_svm\n",
    "            \n",
    "            #==================== Decision Tree ====================\n",
    "            st_clf = time.time()\n",
    "            \n",
    "            clf = clf.fit(x_train, y_train)\n",
    "            y_pred = clf.predict(x_test)\n",
    "            \n",
    "            tre_score = clf.score(x_train, y_train)\n",
    "            metrics[2,0,i,j] = tre_score\n",
    "            tre_r2 = r2_score(y_test, y_pred)\n",
    "            metrics[2,1,i,j] = tre_r2\n",
    "            tre_mse = mean_squared_error(y_test, y_pred, squared=False)\n",
    "            metrics[2,2,i,j] = tre_mse\n",
    "            \n",
    "            ed_clf = time.time()\n",
    "            tt_clf = ed_clf-st_clf\n",
    "            metrics[2,3,i,j] = tt_clf\n",
    "            \n",
    "            #print(lat.values,lon.values)"
   ]
  },
  {
   "cell_type": "code",
   "execution_count": 10,
   "id": "6159bbed-db7c-48d2-a60f-c0dc801def98",
   "metadata": {},
   "outputs": [],
   "source": [
    "# Guardado de las metricas\n",
    "data_metrics = xr.DataArray(data = metrics, \n",
    "                            dims = ['model', 'metric', 'lat', 'lon'], \n",
    "                            coords = dict(model=['lmr', 'knn', 'svm', 'tre'], \n",
    "                                          metric=['r2_train', 'r2_val', 'mse_val','pc_time'],\n",
    "                                          lat=Y.latitude.values, \n",
    "                                          lon=Y.longitude.values)\n",
    "                           )"
   ]
  },
  {
   "cell_type": "code",
   "execution_count": 11,
   "id": "fa92a27a-5512-4740-a801-f6857a51523c",
   "metadata": {},
   "outputs": [],
   "source": [
    "data_metrics.to_netcdf(mlg+str(hzn)+'_pre_metrics.nc')"
   ]
  },
  {
   "cell_type": "markdown",
   "id": "c2ac676b-691a-43c4-a8e7-9c3d53138fd5",
   "metadata": {
    "tags": []
   },
   "source": [
    "## Modelos avanzados"
   ]
  },
  {
   "cell_type": "code",
   "execution_count": 12,
   "id": "60f933eb-f88e-4b08-b614-349e188d65f4",
   "metadata": {},
   "outputs": [],
   "source": [
    "rf  = RandomForestRegressor()\n",
    "bag = BaggingRegressor()\n",
    "mlp = MLPRegressor()"
   ]
  },
  {
   "cell_type": "code",
   "execution_count": 13,
   "id": "cd489434-dc4d-4346-9f16-56615209e116",
   "metadata": {},
   "outputs": [],
   "source": [
    "# - Arrays to save models metrics\n",
    "n_mod = 3\n",
    "n_met = 4\n",
    "lats = Y.latitude.shape[0]\n",
    "lons = Y.longitude.shape[0]\n",
    "metrics_ad = np.zeros((n_mod, n_met, lats, lons))*np.nan"
   ]
  },
  {
   "cell_type": "code",
   "execution_count": 14,
   "id": "e1f48563-92e4-4333-baa8-10dd44d03b91",
   "metadata": {},
   "outputs": [],
   "source": [
    "for i in range(Y.latitude.shape[0]):\n",
    "    for j in range(Y.longitude.shape[0]):\n",
    "        if (np.isnan(Y[:,i,j]).sum())<10:\n",
    "            x_train, x_test, y_train, y_test = prepro(X, Y, i, j, 0.33)\n",
    "            \n",
    "            #======================================================\n",
    "            #             Aplicacion de Modelos\n",
    "            #======================================================\n",
    "            \n",
    "            #==================== Random forest ====================\n",
    "            st_rf = time.time()\n",
    "            \n",
    "            rf = rf.fit(x_train, y_train)\n",
    "            y_pred = rf.predict(x_test)\n",
    "            \n",
    "            rf_score = rf.score(x_train, y_train)\n",
    "            metrics_ad[0,0,i,j] = rf_score\n",
    "            rf_r2 = r2_score(y_test, y_pred)\n",
    "            metrics_ad[0,1,i,j] = rf_r2\n",
    "            rf_mse = mean_squared_error(y_test, y_pred, squared=False)\n",
    "            metrics_ad[0,2,i,j] = rf_mse\n",
    "            \n",
    "            \n",
    "            ed_rf = time.time()\n",
    "            tt_rf = ed_rf-st_rf\n",
    "            metrics_ad[0,3,i,j] = tt_rf\n",
    "            \n",
    "            #==================== Bagging ====================\n",
    "            st_bag = time.time()\n",
    "            \n",
    "            bag = bag.fit(x_train, y_train)\n",
    "            y_pred = bag.predict(x_test)\n",
    "            \n",
    "            bag_score = bag.score(x_train, y_train)\n",
    "            metrics_ad[1,0,i,j] = bag_score\n",
    "            bag_r2 = r2_score(y_test, y_pred)\n",
    "            metrics_ad[1,1,i,j] = bag_r2\n",
    "            bag_mse = mean_squared_error(y_test, y_pred, squared=False)\n",
    "            metrics_ad[1,2,i,j] = bag_mse\n",
    "            \n",
    "            \n",
    "            ed_bag = time.time()\n",
    "            tt_bag = ed_bag-st_bag\n",
    "            metrics_ad[1,3,i,j] = tt_bag\n",
    "            \n",
    "            #==================== Multy Layer Perceptron ====================\n",
    "            st_mlp = time.time()\n",
    "            \n",
    "            mlp = mlp.fit(x_train, y_train)\n",
    "            y_pred = mlp.predict(x_test)\n",
    "            \n",
    "            mlp_score = mlp.score(x_train, y_train)\n",
    "            metrics_ad[2,0,i,j] = mlp_score\n",
    "            mlp_r2 = r2_score(y_test, y_pred)\n",
    "            metrics_ad[2,1,i,j] = mlp_r2\n",
    "            mlp_mse = mean_squared_error(y_test, y_pred, squared=False)\n",
    "            metrics_ad[2,2,i,j] = mlp_mse\n",
    "            \n",
    "            \n",
    "            ed_mlp = time.time()\n",
    "            tt_mlp = ed_mlp-st_mlp\n",
    "            metrics_ad[2,3,i,j] = tt_mlp"
   ]
  },
  {
   "cell_type": "code",
   "execution_count": 15,
   "id": "6237febd-627e-4be6-8aa7-d7d0a8f7c468",
   "metadata": {},
   "outputs": [],
   "source": [
    "# Guardado de modelos\n",
    "data_metrics_ad = xr.DataArray(data = metrics_ad, \n",
    "                               dims = ['model', 'metric', 'lat', 'lon'], \n",
    "                               coords = dict(model=['rf', 'bag', 'mlp'], \n",
    "                                             metric=['r2_train', 'r2_val', 'mse_val','pc_time'],\n",
    "                                             lat=Y.latitude.values, \n",
    "                                             lon=Y.longitude.values)\n",
    "                              )"
   ]
  },
  {
   "cell_type": "code",
   "execution_count": 16,
   "id": "78374a3e-d0bb-4cdc-ae87-ef1abcf62aea",
   "metadata": {},
   "outputs": [],
   "source": [
    "data_metrics_ad.to_netcdf(mlg+str(hzn)+'_pre_metrics_advanced.nc')"
   ]
  },
  {
   "cell_type": "markdown",
   "id": "53f48755-39bb-444f-afde-80d0d4872bc2",
   "metadata": {
    "jp-MarkdownHeadingCollapsed": true,
    "tags": []
   },
   "source": [
    "## Pruebas con tensorflow"
   ]
  },
  {
   "cell_type": "code",
   "execution_count": 54,
   "id": "fba712be-1088-4bff-b3bd-622ae790fe7a",
   "metadata": {},
   "outputs": [],
   "source": [
    "import tensorflow as tf\n",
    "from tensorflow import keras\n",
    "from tensorflow.keras import layers"
   ]
  },
  {
   "cell_type": "code",
   "execution_count": 56,
   "id": "1a43cd12-ff89-4d3d-bbfb-f3b9b6ad9e19",
   "metadata": {},
   "outputs": [],
   "source": [
    "# Another model, Functional API\n",
    "def build_model():\n",
    "    model = keras.Sequential([\n",
    "        layers.Dense(12, activation='relu', input_shape=[len(x_train[1])],kernel_initializer='VarianceScaling'),\n",
    "        layers.Dense(12, activation='tanh',kernel_initializer='VarianceScaling'),\n",
    "        layers.Dense(1)\n",
    "    ])\n",
    "    \n",
    "    optimizer = keras.optimizers.RMSprop(0.0001)\n",
    "    \n",
    "    model.compile(loss='mse',\n",
    "                  optimizer=optimizer,\n",
    "                  metrics=['mae', 'mse'])\n",
    "    \n",
    "    return model"
   ]
  },
  {
   "cell_type": "code",
   "execution_count": 57,
   "id": "2e88327e-7e4a-4c52-89e4-38dcf4a81fe1",
   "metadata": {},
   "outputs": [],
   "source": [
    "model = build_model()"
   ]
  },
  {
   "cell_type": "code",
   "execution_count": 58,
   "id": "f22b8bbd-26ba-4c51-9529-4d079e7ed6e8",
   "metadata": {},
   "outputs": [],
   "source": [
    "#y_pred = model.predict(x_test)"
   ]
  },
  {
   "cell_type": "code",
   "execution_count": 59,
   "id": "089813ee-87a1-4e0e-bfec-fe6fbc2dc9c7",
   "metadata": {},
   "outputs": [],
   "source": [
    "#r2_score(y_test, y_pred)"
   ]
  },
  {
   "cell_type": "code",
   "execution_count": 60,
   "id": "1828626f-6b86-4dad-b69b-a5099863703d",
   "metadata": {},
   "outputs": [
    {
     "name": "stdout",
     "output_type": "stream",
     "text": [
      "\n",
      "....................................................................................................\n",
      "..............................................................................."
     ]
    }
   ],
   "source": [
    "class PrintDot(keras.callbacks.Callback):\n",
    "    def on_epoch_end(self, epoch, logs):\n",
    "        if epoch % 100 == 0: print('')\n",
    "        print('.', end='')\n",
    "\n",
    "EPOCHS = 1000\n",
    "early_stop = keras.callbacks.EarlyStopping(monitor='val_loss', patience=10)\n",
    "\n",
    "history = model.fit(x_train,\n",
    "                    y_train,\n",
    "                    epochs=EPOCHS, validation_split = 0.2, verbose=0,\n",
    "                    callbacks=[early_stop, PrintDot()])"
   ]
  },
  {
   "cell_type": "code",
   "execution_count": 61,
   "id": "e9bc10ac-c5cf-46ab-b3ac-5d300417f5c0",
   "metadata": {},
   "outputs": [],
   "source": [
    "hist = pd.DataFrame(history.history)\n",
    "hist['epoch'] = history.epoch"
   ]
  },
  {
   "cell_type": "code",
   "execution_count": 62,
   "id": "79208487-a0b7-4f85-9644-e58c01479e89",
   "metadata": {},
   "outputs": [
    {
     "data": {
      "image/png": "[encoded data removed]",
      "text/plain": [
       "<Figure size 432x288 with 1 Axes>"
      ]
     },
     "metadata": {
      "needs_background": "light"
     },
     "output_type": "display_data"
    },
    {
     "data": {
      "image/png": "[encoded data removed]",
      "text/plain": [
       "<Figure size 432x288 with 1 Axes>"
      ]
     },
     "metadata": {
      "needs_background": "light"
     },
     "output_type": "display_data"
    }
   ],
   "source": [
    "def plot_history(history):\n",
    "    hist = pd.DataFrame(history.history)\n",
    "    hist['epoch'] = history.epoch\n",
    "    \n",
    "    plt.figure()\n",
    "    plt.xlabel('Epoch')\n",
    "    plt.ylabel('Mean Abs Error [MPG]')\n",
    "    plt.plot(hist['epoch'], hist['mae'],\n",
    "             label='Train Error')\n",
    "    plt.plot(hist['epoch'], hist['val_mae'],\n",
    "             label = 'Val Error')\n",
    "    #plt.ylim([0,5])\n",
    "    plt.legend()\n",
    "\n",
    "    plt.figure()\n",
    "    plt.xlabel('Epoch')\n",
    "    plt.ylabel('Mean Square Error [$MPG^2$]')\n",
    "    plt.plot(hist['epoch'], hist['mse'],\n",
    "             label='Train Error')\n",
    "    plt.plot(hist['epoch'], hist['val_mse'],\n",
    "             label = 'Val Error')\n",
    "    #plt.ylim([0,20])\n",
    "    plt.legend()\n",
    "    plt.show()\n",
    "\n",
    "\n",
    "plot_history(history)"
   ]
  }
 ],
 "metadata": {
  "kernelspec": {
   "display_name": "Python 3 (ipykernel)",
   "language": "python",
   "name": "python3"
  },
  "language_info": {
   "codemirror_mode": {
    "name": "ipython",
    "version": 3
   },
   "file_extension": ".py",
   "mimetype": "text/x-python",
   "name": "python",
   "nbconvert_exporter": "python",
   "pygments_lexer": "ipython3",
   "version": "3.8.12"
  }
 },
 "nbformat": 4,
 "nbformat_minor": 5
}
