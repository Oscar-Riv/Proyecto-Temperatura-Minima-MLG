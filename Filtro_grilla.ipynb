{
 "cells": [
  {
   "cell_type": "markdown",
   "id": "0896fc48-e76c-4fe8-ab10-b407c87794cf",
   "metadata": {},
   "source": [
    "En este script se aplica un filtro para seleccionar solo los pixeles deseados"
   ]
  },
  {
   "cell_type": "code",
   "execution_count": null,
   "id": "679efa70-a362-4fb0-b9cb-956c92988c67",
   "metadata": {},
   "outputs": [],
   "source": [
    "import xarray as xr\n",
    "import numpy as np\n",
    "import matplotlib.pyplot as plt\n",
    "import glob"
   ]
  },
  {
   "cell_type": "code",
   "execution_count": 2,
   "id": "5428a471-12fa-4c30-ad46-75ea06905cfc",
   "metadata": {},
   "outputs": [],
   "source": [
    "# - Rutas \n",
    "ruta_files = 'D:/Documentos/Maestria/DATOS ERA5/'\n",
    "ruta_save = 'D:/Documentos/Maestria/DATOS ERA5/ERA5/ERA5v2/'"
   ]
  },
  {
   "cell_type": "code",
   "execution_count": 3,
   "id": "1df4e47f-8098-40e3-a27b-ff02a18ab3a6",
   "metadata": {},
   "outputs": [],
   "source": [
    "# Datos enmascaramiento\n",
    "mask = xr.open_dataset(ruta_files+'Mascara2400ERA.nc')\n",
    "mask = mask.drop('crs')"
   ]
  },
  {
   "cell_type": "code",
   "execution_count": 4,
   "id": "0b59e21f-93f3-41a0-a376-cbacc2dc5742",
   "metadata": {},
   "outputs": [],
   "source": [
    "#lats_mask = slice(0.0, 8.0)\n",
    "lats_mask = slice(8.0, 0.0)\n",
    "lons_mask = slice(-78.5, -71.5)"
   ]
  },
  {
   "cell_type": "code",
   "execution_count": 5,
   "id": "5c83ebdd-b78a-417c-b534-aa21d24e9b61",
   "metadata": {},
   "outputs": [],
   "source": [
    "mask = mask.reindex(lat=list(reversed(mask.lat)))\n",
    "mask = mask.sel(lat = lats_mask, lon = lons_mask)"
   ]
  },
  {
   "cell_type": "code",
   "execution_count": 6,
   "id": "a3346085-7434-4f62-9cc4-2e4623bc3a25",
   "metadata": {},
   "outputs": [],
   "source": [
    "mask = mask.where(mask.Band1 == 1)"
   ]
  },
  {
   "cell_type": "code",
   "execution_count": 7,
   "id": "c2b6e617-8e69-4d71-8b20-17548180a9c8",
   "metadata": {},
   "outputs": [],
   "source": [
    "files = glob.glob(ruta_files+'ERA5/*.nc')"
   ]
  },
  {
   "cell_type": "code",
   "execution_count": 36,
   "id": "de6ac518-ed18-463e-aa6a-1b47ececd58c",
   "metadata": {},
   "outputs": [],
   "source": [
    "for i in range(len(files)):\n",
    "    data = xr.open_dataset(files[i])\n",
    "    # - Nombre del archivo, dependiente de la ubicacion\n",
    "    name_file = files[i][39:]\n",
    "    # - Seleccion para igualar mallas\n",
    "    data = data.sel(latitude = lats_mask, longitude = lons_mask)\n",
    "    # - Separacion para enmascarar valores\n",
    "    n_var = list(data.keys())[0]\n",
    "    var = data[n_var].values\n",
    "    mask_d = mask.Band1.values\n",
    "    \n",
    "    var_masked = var*mask_d\n",
    "    data[n_var].values = var_masked\n",
    "    \n",
    "    data.to_netcdf(ruta_save+name_file)"
   ]
  }
 ],
 "metadata": {
  "kernelspec": {
   "display_name": "Python 3 (ipykernel)",
   "language": "python",
   "name": "python3"
  },
  "language_info": {
   "codemirror_mode": {
    "name": "ipython",
    "version": 3
   },
   "file_extension": ".py",
   "mimetype": "text/x-python",
   "name": "python",
   "nbconvert_exporter": "python",
   "pygments_lexer": "ipython3",
   "version": "3.8.12"
  }
 },
 "nbformat": 4,
 "nbformat_minor": 5
}
